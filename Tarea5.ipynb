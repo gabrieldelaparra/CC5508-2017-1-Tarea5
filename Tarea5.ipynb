{
 "cells": [
  {
   "cell_type": "markdown",
   "metadata": {},
   "source": [
    "## Imports"
   ]
  },
  {
   "cell_type": "code",
   "execution_count": 1,
   "metadata": {},
   "outputs": [],
   "source": [
    "%matplotlib inline\n",
    "\n",
    "import os\n",
    "from scipy import ndimage as ndi, signal\n",
    "from skimage import io, filters, exposure, color, img_as_float\n",
    "import matplotlib.pylab as plt\n",
    "import matplotlib\n",
    "import numpy as np\n",
    "from ipywidgets import interact, widgets, HBox\n",
    "from IPython import display\n",
    "import math\n",
    "from random import randint\n",
    "\n",
    "#Ajustar el tamaño de las imágenes:\n",
    "matplotlib.rcParams['figure.figsize'] = (14,12)"
   ]
  },
  {
   "cell_type": "markdown",
   "metadata": {},
   "source": [
    "## Gabor local (Incompleto)"
   ]
  },
  {
   "cell_type": "code",
   "execution_count": 2,
   "metadata": {},
   "outputs": [
    {
     "data": {
      "text/plain": [
       "0.9046729426630928"
      ]
     },
     "execution_count": 2,
     "metadata": {},
     "output_type": "execute_result"
    }
   ],
   "source": [
    "def gaborFilterCoord(x, y, orientation, bandwidth, sigmaX, sigmaY):\n",
    "    thetaX = x * math.cos(orientation) - y * math.sin(orientation)\n",
    "    thetaY = x * math.sin(orientation) - y * math.cos(orientation)\n",
    "    \n",
    "    firstTerm = math.exp ( -0.5 * ((thetaX ** 2 / sigmaX ** 2) + (thetaY ** 2 / sigmaY ** 2)) )\n",
    "    secondTerm = math.cos(2 * math.pi / bandwidth * thetaX )\n",
    "    \n",
    "    return firstTerm * secondTerm;\n",
    "\n",
    "gaborFilterCoord(1, 3, 0, 20, 10, 10)"
   ]
  },
  {
   "cell_type": "markdown",
   "metadata": {},
   "source": [
    "## Gabor de Wikipedia"
   ]
  },
  {
   "cell_type": "code",
   "execution_count": 3,
   "metadata": {
    "collapsed": true
   },
   "outputs": [],
   "source": [
    "#x,y: es una coordenada en el filtro. Si definimos un filtro con radios rx, ry,\n",
    "#entonces x ∈ [−rx,rx] e y ∈ [−ry,ry]. Recuerde, además, que el tamaño\n",
    "#de un filtro gaussiano depende de su desviación estándar correspondiente.\n",
    "\n",
    "def gabor_fn(theta, Lambda, sigma_x, sigma_y):\n",
    "\n",
    "    # Bounding box\n",
    "    nstds = 3 # Number of standard deviation sigma\n",
    "    xmax = max(abs(nstds * sigma_x * np.cos(theta)), abs(nstds * sigma_y * np.sin(theta)))\n",
    "    xmax = np.ceil(max(1, xmax))\n",
    "    ymax = max(abs(nstds * sigma_x * np.sin(theta)), abs(nstds * sigma_y * np.cos(theta)))\n",
    "    ymax = np.ceil(max(1, ymax))\n",
    "    xmin = -xmax\n",
    "    ymin = -ymax\n",
    "    (y, x) = np.meshgrid(np.arange(ymin, ymax + 1), np.arange(xmin, xmax + 1))\n",
    "\n",
    "    # Rotation \n",
    "    x_theta = x * np.cos(theta) + y * np.sin(theta)\n",
    "    y_theta = -x * np.sin(theta) + y * np.cos(theta)\n",
    "\n",
    "    gb = np.exp(-.5 * (x_theta ** 2 / sigma_x ** 2 + y_theta ** 2 / sigma_y ** 2)) * np.cos(2 * np.pi / Lambda * x_theta)\n",
    "    return gb"
   ]
  },
  {
   "cell_type": "markdown",
   "metadata": {},
   "source": [
    "## Prueba Gabor"
   ]
  },
  {
   "cell_type": "code",
   "execution_count": 4,
   "metadata": {},
   "outputs": [
    {
     "name": "stdout",
     "output_type": "stream",
     "text": [
      "(61, 61)\n"
     ]
    }
   ],
   "source": [
    "gabor = gabor_fn(0, 10, 10, 10)\n",
    "print(gabor.shape)\n",
    "#gabor"
   ]
  },
  {
   "cell_type": "markdown",
   "metadata": {},
   "source": [
    "## Gabor dinámico: Prueba de parámetros"
   ]
  },
  {
   "cell_type": "code",
   "execution_count": 5,
   "metadata": {
    "scrolled": true
   },
   "outputs": [
    {
     "data": {
      "application/vnd.jupyter.widget-view+json": {
       "model_id": "59247e3e3e8d4cd889d73ecf256cae46"
      }
     },
     "metadata": {},
     "output_type": "display_data"
    },
    {
     "data": {
      "text/plain": [
       "<function __main__.testGabor>"
      ]
     },
     "execution_count": 5,
     "metadata": {},
     "output_type": "execute_result"
    }
   ],
   "source": [
    "def testGabor(theta = math.pi/4, Lambda = 30, sigma_x=40, sigma_y=40):\n",
    "    gabor = gabor_fn(theta, Lambda, sigma_x, sigma_y)\n",
    "    #fig, ax = plt.subplots()\n",
    "    plt.imshow(gabor, cmap=\"binary\")\n",
    "    plt.show()\n",
    "    \n",
    "interact(testGabor, theta = (0, math.pi), Lambda = (0,100), sigma_x=(0,100), sigma_y=(0,100))"
   ]
  },
  {
   "cell_type": "markdown",
   "metadata": {},
   "source": [
    "## Celdas de pixeles"
   ]
  },
  {
   "cell_type": "code",
   "execution_count": 6,
   "metadata": {},
   "outputs": [
    {
     "name": "stdout",
     "output_type": "stream",
     "text": [
      "0\n",
      "0\n",
      "0\n",
      "0\n",
      "1\n",
      "1\n",
      "1\n",
      "1\n",
      "2\n",
      "2\n",
      "2\n",
      "2\n",
      "3\n",
      "3\n",
      "3\n",
      "3\n"
     ]
    }
   ],
   "source": [
    "W = 4\n",
    "for i in range(W*W):\n",
    "    print(math.floor(i/W))"
   ]
  },
  {
   "cell_type": "markdown",
   "metadata": {},
   "source": [
    "## Demo Celdas: Celdas por imagen"
   ]
  },
  {
   "cell_type": "code",
   "execution_count": null,
   "metadata": {},
   "outputs": [
    {
     "name": "stdout",
     "output_type": "stream",
     "text": [
      "16\n"
     ]
    }
   ],
   "source": [
    "def createCellDemo(imageSize, cellSize):\n",
    "    cellImage = np.zeros((imageSize, imageSize))\n",
    "    cellCount = math.floor(imageSize/cellSize)\n",
    "    cellPixels = np.zeros((cellSize, cellSize, cellCount))\n",
    "    print(cellCount)\n",
    "    \n",
    "createCellDemo(64,4) "
   ]
  },
  {
   "cell_type": "markdown",
   "metadata": {},
   "source": [
    "## Demo Celdas: Índices celdas"
   ]
  },
  {
   "cell_type": "code",
   "execution_count": null,
   "metadata": {},
   "outputs": [],
   "source": [
    "def createCellDemo(imageSize, cellSize):\n",
    "    cellImage = np.zeros((imageSize, imageSize))\n",
    "    cellCount = math.floor(imageSize/cellSize)\n",
    "    cellPixels = np.zeros((cellCount, cellCount)) \n",
    "    x = 0\n",
    "    for j in range(imageSize):\n",
    "        for i in range(imageSize):\n",
    "            cellX = math.floor(i/cellSize)\n",
    "            cellY = math.floor(j/cellSize)\n",
    "            cellIndex = cellY * cellCount + cellX\n",
    "            if x < 16:\n",
    "                print(\"i:\",i,\"j:\", j,\"cellX:\", cellX,\"cellY:\", cellY,\"index:\", cellIndex)\n",
    "                x += 1\n",
    "    \n",
    "createCellDemo(16,4)"
   ]
  },
  {
   "cell_type": "markdown",
   "metadata": {},
   "source": [
    "## Demo Celdas: Visualización celdas"
   ]
  },
  {
   "cell_type": "code",
   "execution_count": null,
   "metadata": {},
   "outputs": [],
   "source": [
    "def createCellDemo(imageSize, cellSize):\n",
    "    cellImage = np.zeros((imageSize, imageSize))\n",
    "    cellCount = math.floor(imageSize/cellSize)\n",
    "    cellPixels = np.zeros((cellCount, cellCount)) \n",
    "    for j in range(imageSize):\n",
    "        for i in range(imageSize):\n",
    "            cellX = math.floor(i/cellSize)\n",
    "            cellY = math.floor(j/cellSize)\n",
    "            cellIndex = cellX * cellCount + cellY\n",
    "            \n",
    "            cellPixels[cellX, cellY] = cellIndex\n",
    "    \n",
    "    \n",
    "    plt.imshow(cellPixels, cmap=\"gray\")\n",
    "        \n",
    "createCellDemo(16,4)"
   ]
  },
  {
   "cell_type": "code",
   "execution_count": null,
   "metadata": {},
   "outputs": [],
   "source": [
    "createCellDemo(32,4)"
   ]
  },
  {
   "cell_type": "markdown",
   "metadata": {},
   "source": [
    "## Demo Celdas: Anotación en celdas"
   ]
  },
  {
   "cell_type": "code",
   "execution_count": null,
   "metadata": {},
   "outputs": [],
   "source": [
    "def createCellDemo(imageSize, cellSize):\n",
    "    cellImage = np.zeros((imageSize, imageSize))\n",
    "    cellCount = math.floor(imageSize/cellSize)\n",
    "    cellPixels = np.zeros((cellCount, cellCount)) \n",
    "    for j in range(imageSize):\n",
    "        for i in range(imageSize):\n",
    "            cellX = math.floor(i/cellSize)\n",
    "            cellY = math.floor(j/cellSize)\n",
    "            cellIndex = cellX * cellCount + cellY\n",
    "            \n",
    "            cellPixels[cellX, cellY] = cellIndex\n",
    "    \n",
    "    \n",
    "    fig, ax = plt.subplots()\n",
    "    ax.imshow(cellPixels)\n",
    "    \n",
    "    for j in range(cellPixels.shape[1]):\n",
    "        for i in range(cellPixels.shape[0]):\n",
    "            ax.annotate('{0:.0f}'.format(cellPixels[i,j]), (j,i))\n",
    "        \n",
    "createCellDemo(32,4)"
   ]
  },
  {
   "cell_type": "code",
   "execution_count": null,
   "metadata": {},
   "outputs": [],
   "source": [
    "createCellDemo(64,4)"
   ]
  },
  {
   "cell_type": "markdown",
   "metadata": {},
   "source": [
    "## Demo Celdas: Parametrizar anotación"
   ]
  },
  {
   "cell_type": "code",
   "execution_count": null,
   "metadata": {},
   "outputs": [],
   "source": [
    "def decorateCells(ax, cellPixels, cellContent = None):\n",
    "    if cellContent == \"index\":\n",
    "        for j in range(cellPixels.shape[1]):\n",
    "            for i in range(cellPixels.shape[0]):\n",
    "                ax.annotate(cellPixels[i,j], (j,i))\n",
    "                \n",
    "    return ax, cellPixels\n",
    "\n",
    "def createCellDemo(imageSize, cellSize, cellContent = None):\n",
    "    cellImage = np.zeros((imageSize, imageSize))\n",
    "    cellCount = math.floor(imageSize/cellSize)\n",
    "    cellPixels = np.zeros((cellCount, cellCount)) \n",
    "    for j in range(imageSize):\n",
    "        for i in range(imageSize):\n",
    "            cellX = math.floor(i/cellSize)\n",
    "            cellY = math.floor(j/cellSize)\n",
    "            cellIndex = cellX * cellCount + cellY\n",
    "            \n",
    "            if cellContent == \"index\" or cellContent == None:\n",
    "                cellPixels[cellX, cellY] = cellIndex\n",
    "    \n",
    "    fig, ax = plt.subplots()\n",
    "    ax, cellPixels = decorateCells(ax, cellPixels, cellContent)\n",
    "    ax.imshow(cellPixels)\n",
    "    \n",
    "createCellDemo(32,4)"
   ]
  },
  {
   "cell_type": "markdown",
   "metadata": {},
   "source": [
    "## Demo Celdas: Visualización de orientaciones"
   ]
  },
  {
   "cell_type": "code",
   "execution_count": null,
   "metadata": {},
   "outputs": [],
   "source": [
    "def decorateCells(fig, ax, cells, cellContent = None):\n",
    "    if cellContent == \"index\":\n",
    "        for j in range(cells.shape[1]):\n",
    "            for i in range(cells.shape[0]):\n",
    "                ax.annotate(cells[i,j], (j,i))\n",
    "                \n",
    "    if cellContent == \"orientations\":\n",
    "        for j in range(cells.shape[1]):\n",
    "            for i in range(cells.shape[0]):\n",
    "                ax.plot([j-math.cos(cells[i,j])/4,j+math.cos(cells[i,j])/4],[i+math.sin(cells[i,j])/4,i-math.sin(cells[i,j])/4])\n",
    "                ax.annotate('{:1.2f}'.format(cells[i,j]), (j-1/3,i-1/3))\n",
    "                cells[i,j] = 0;\n",
    "\n",
    "    return fig, ax, cells\n",
    "\n",
    "def createCellDemo(imageSize, cellSize, cellContent = None):\n",
    "    cellImage = np.zeros((imageSize, imageSize))\n",
    "    cellCount = math.floor(imageSize/cellSize)\n",
    "    cells = np.zeros((cellCount, cellCount)) \n",
    "    for j in range(imageSize):\n",
    "        for i in range(imageSize):\n",
    "            cellX = math.floor(i/cellSize)\n",
    "            cellY = math.floor(j/cellSize)\n",
    "            cellIndex = cellX * cellCount + cellY\n",
    "            \n",
    "            if cellContent == \"index\" or cellContent == None:\n",
    "                cells[cellX, cellY] = cellIndex\n",
    "            elif cellContent == \"orientations\":\n",
    "                cells[cellX, cellY] = math.pi*cellIndex/cellCount/2\n",
    "                \n",
    "    fig, ax = plt.subplots()\n",
    "    fig, ax, cells = decorateCells(fig, ax, cells, cellContent)\n",
    "    ax.imshow(cells, cmap=\"binary\")\n",
    "    \n",
    "createCellDemo(32,4, \"orientations\")"
   ]
  },
  {
   "cell_type": "markdown",
   "metadata": {},
   "source": [
    "## Orientación: Celdas según intesidades"
   ]
  },
  {
   "cell_type": "code",
   "execution_count": null,
   "metadata": {},
   "outputs": [],
   "source": [
    "def imageOrientation(image, cellSize):\n",
    "    rows, cols = image.shape\n",
    "    cellRows = math.floor(rows/cellSize)\n",
    "    cellCols = math.floor(cols/cellSize)\n",
    "    cellCount = cellRows*cellCols\n",
    "    cells = np.zeros((cellRows, cellCols)) \n",
    "    \n",
    "    for j in range(cols):\n",
    "        for i in range(rows):\n",
    "            cellX = math.floor(i/cellSize)\n",
    "            cellY = math.floor(j/cellSize)\n",
    "            pixelValue = image[i,j]\n",
    "            if(pixelValue<255):\n",
    "                cells[cellX, cellY] = pixelValue\n",
    "            \n",
    "    fig, ax = plt.subplots()\n",
    "    ax.imshow(cells, cmap=\"binary\")\n",
    "\n",
    "image = io.imread(\"./DB1_B/101_2.tif\")\n",
    "imageOrientation(image, 6)            "
   ]
  },
  {
   "cell_type": "markdown",
   "metadata": {},
   "source": [
    "## Orientación: Orientación de intensidades"
   ]
  },
  {
   "cell_type": "code",
   "execution_count": null,
   "metadata": {},
   "outputs": [],
   "source": [
    "def imageOrientation(image, cellSize):\n",
    "    rows, cols = image.shape\n",
    "    cellRows = math.floor(rows/cellSize)\n",
    "    cellCols = math.floor(cols/cellSize)\n",
    "    cellCount = cellRows*cellCols\n",
    "    cells = np.zeros((cellRows, cellCols)) \n",
    "    \n",
    "    for j in range(cols):\n",
    "        for i in range(rows):\n",
    "            cellX = math.floor(i/cellSize)\n",
    "            cellY = math.floor(j/cellSize)\n",
    "            pixelValue = image[i,j]\n",
    "            if(pixelValue<255):\n",
    "                cells[cellX, cellY] = 0.5 * math.pi * pixelValue / cellCount\n",
    "            \n",
    "    fig, ax = plt.subplots()\n",
    "    for j in range(cellCols):\n",
    "        for i in range(cellRows):\n",
    "            if(cells[i,j]>0):\n",
    "                ax.plot([j-math.cos(cells[i,j])/2,j+math.cos(cells[i,j])/2],[i-math.sin(cells[i,j])/2,i+math.sin(cells[i,j])/2])\n",
    "            cells[i,j] = 0;\n",
    "                \n",
    "    ax.imshow(cells, cmap=\"binary\")\n",
    "\n",
    "imageFile = \"./DB1_B/101_2.tif\"\n",
    "image = io.imread(imageFile)\n",
    "imageOrientation(image, 12)    "
   ]
  },
  {
   "cell_type": "markdown",
   "metadata": {},
   "source": [
    "## Orientación: Algoritmo de orientaciones"
   ]
  },
  {
   "cell_type": "code",
   "execution_count": null,
   "metadata": {},
   "outputs": [],
   "source": [
    "def imageOrientation(image, cellSize):\n",
    "    rows, cols = image.shape\n",
    "    cellRows = math.floor(rows/cellSize)\n",
    "    cellCols = math.floor(cols/cellSize)\n",
    "    cellCount = cellRows*cellCols\n",
    "\n",
    "    sobelH = filters.sobel_h(image)\n",
    "    sobelV = filters.sobel_v(image)\n",
    "    \n",
    "    cells = np.zeros((cellRows, cellCols)) \n",
    "    m_sines = np.zeros((cellRows, cellCols)) \n",
    "    m_cosines = np.zeros((cellRows, cellCols)) \n",
    "    \n",
    "    for j in range(cols):\n",
    "        for i in range(rows):\n",
    "            if(image[i,j] == 255):\n",
    "                continue\n",
    "            cellX = math.floor(i/cellSize)\n",
    "            cellY = math.floor(j/cellSize)\n",
    "            gx = sobelH[i,j]\n",
    "            gy = sobelV[i,j]\n",
    "            alfa = math.atan2(gy, gx)\n",
    "            mag = math.sqrt(gx * gx + gy * gy)\n",
    "            m_sines[cellX, cellY] = m_sines[cellX, cellY] + 2 * math.cos(alfa) * math.sin(alfa) * mag\n",
    "            m_cosines[cellX, cellY] = m_cosines[cellX, cellY] + (math.cos(alfa) * math.cos(alfa) - math.sin(alfa) * math.sin(alfa)) * mag\n",
    "            cellValue = math.pi + 0.5*math.atan2(m_sines[cellX, cellY], m_cosines[cellX, cellY])\n",
    "            cells[cellX, cellY] = cellValue\n",
    "            \n",
    "    fig, ax = plt.subplots()\n",
    "    for j in range(cellCols):\n",
    "        for i in range(cellRows):\n",
    "            if(cells[i,j]> 0):\n",
    "                ax.plot([j - 0.5 * math.cos(cells[i,j]), j + 0.5 * math.cos(cells[i,j])],[i + 0.5 * math.sin(cells[i,j]), i - 0.5 * math.sin(cells[i,j])], color=\"black\")\n",
    "            cells[i,j] = 0;\n",
    "                \n",
    "    ax.imshow(cells, cmap=\"binary\")\n",
    "\n",
    "imageFile = \"./DB1_B/101_2.tif\"\n",
    "image = io.imread(imageFile)\n",
    "imageOrientation(image, 8)   "
   ]
  },
  {
   "cell_type": "markdown",
   "metadata": {},
   "source": [
    "## Orientación: Pruebas sobre celdas"
   ]
  },
  {
   "cell_type": "code",
   "execution_count": null,
   "metadata": {},
   "outputs": [],
   "source": [
    "def segmentImagen(image, cellSize):\n",
    "    rows, cols = image.shape\n",
    "    cellRows = math.floor(rows/cellSize)\n",
    "    cellCols = math.floor(cols/cellSize)\n",
    "    cellCount = cellRows*cellCols\n",
    "    cells = np.zeros((cellRows, cellCols)) \n",
    "    \n",
    "    for j in range(cols):\n",
    "        for i in range(rows):\n",
    "            if(image[i,j] == 255):\n",
    "                continue\n",
    "            cellX = math.floor(i/cellSize)\n",
    "            cellY = math.floor(j/cellSize)\n",
    "            if(cellX % 2==0 and cellY % 2 ==0):\n",
    "                cells[cellX, cellY] = image[i,j]\n",
    "    \n",
    "    fig, ax = plt.subplots()\n",
    "    ax.imshow(cells, cmap=\"binary\")\n",
    "    \n",
    "imageFile = \"./DB1_B/101_2.tif\"\n",
    "image = io.imread(imageFile)\n",
    "segmentImagen(image, 8)      "
   ]
  },
  {
   "cell_type": "markdown",
   "metadata": {},
   "source": [
    "## Orientación: Gabor sobre orientaciones"
   ]
  },
  {
   "cell_type": "code",
   "execution_count": null,
   "metadata": {
    "scrolled": false
   },
   "outputs": [],
   "source": [
    "def imageOrientation(image, cellSize):\n",
    "    \"\"\"Mostrar Imagen original\"\"\"\n",
    "    if(False):\n",
    "        fig, ax = plt.subplots()\n",
    "        ax.imshow(image, cmap=\"gray\")\n",
    "    \n",
    "    \"\"\"Init\"\"\"\n",
    "    rows, cols = image.shape\n",
    "    cellRows = math.floor(rows/cellSize)\n",
    "    cellCols = math.floor(cols/cellSize)\n",
    "    cellCount = cellRows*cellCols\n",
    "    \n",
    "    cells = np.zeros((cellRows, cellCols)) \n",
    "    m_sines = np.zeros((cellRows, cellCols)) \n",
    "    m_cosines = np.zeros((cellRows, cellCols)) \n",
    "    \n",
    "    \"\"\"Calcular orientaciones\"\"\"\n",
    "    sobelH = filters.sobel_h(image)\n",
    "    sobelV = filters.sobel_v(image)\n",
    "    \n",
    "    for j in range(cols):\n",
    "        for i in range(rows):\n",
    "            #if(image[i,j] == 255):\n",
    "            #    continue\n",
    "            cellX = math.floor(i/cellSize)\n",
    "            cellY = math.floor(j/cellSize)\n",
    "            gx = sobelH[i,j]\n",
    "            gy = sobelV[i,j]\n",
    "            alfa = math.atan2(gy, gx)\n",
    "            mag = math.sqrt(gx * gx + gy * gy)\n",
    "            m_sines[cellX, cellY] = m_sines[cellX, cellY] + 2 * math.cos(alfa) * math.sin(alfa) * mag\n",
    "            m_cosines[cellX, cellY] = m_cosines[cellX, cellY] + (math.cos(alfa) * math.cos(alfa) - math.sin(alfa) * math.sin(alfa)) * mag\n",
    "            orientation = math.pi + 0.5 * math.atan2(m_sines[cellX, cellY], m_cosines[cellX, cellY])\n",
    "            cells[cellX, cellY] = orientation\n",
    "    \n",
    "    \"\"\"Mostrar orientaciones\"\"\"\n",
    "    if(False):\n",
    "        fig, ax = plt.subplots()\n",
    "        arrowCells = np.zeros_like(cells)\n",
    "        for j in range(cellCols):\n",
    "            for i in range(cellRows):\n",
    "                if(cells[i,j]> 0):\n",
    "                    ax.plot([j - 0.5 * math.cos(cells[i,j]), j + 0.5 * math.cos(cells[i,j])],[i + 0.5 * math.sin(cells[i,j]), i - 0.5 * math.sin(cells[i,j])], color=\"black\")\n",
    "\n",
    "        ax.imshow(arrowCells, cmap=\"binary\")\n",
    "    \n",
    "    \"\"\"Mejorar imagen\"\"\"\n",
    "    improvedImage = np.zeros((rows, cols))\n",
    "    \n",
    "    for j in range(cellCols):\n",
    "        for i in range(cellRows):\n",
    "            orientation = cells[i, j]\n",
    "            filtered = signal.correlate2d(image[(cellSize * i) : (cellSize) * (i + 1), (cellSize * j) : (cellSize) * (j + 1)], gabor_fn(orientation, 10, 10, 10), mode=\"same\")\n",
    "            improvedImage[(cellSize * i) : (cellSize) * (i + 1), (cellSize * j) : (cellSize) * (j + 1)] = filtered\n",
    "                \n",
    "    fig, ax = plt.subplots()\n",
    "    ax.imshow(improvedImage, cmap=\"gray\")\n",
    "    \n",
    "imageFile = \"./DB1_B/101_2.tif\"\n",
    "image = io.imread(imageFile)\n",
    "imageOrientation(image, 8)   "
   ]
  }
 ],
 "metadata": {
  "kernelspec": {
   "display_name": "Python [default]",
   "language": "python",
   "name": "python3"
  },
  "language_info": {
   "codemirror_mode": {
    "name": "ipython",
    "version": 3
   },
   "file_extension": ".py",
   "mimetype": "text/x-python",
   "name": "python",
   "nbconvert_exporter": "python",
   "pygments_lexer": "ipython3",
   "version": "3.5.2"
  }
 },
 "nbformat": 4,
 "nbformat_minor": 2
}
